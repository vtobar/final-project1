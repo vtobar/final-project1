{
 "cells": [
  {
   "cell_type": "code",
   "execution_count": 1,
   "metadata": {
    "collapsed": true
   },
   "outputs": [],
   "source": [
    "import pandas as pd\n",
    "import numpy as np\n",
    "import pandas.util.testing as tm"
   ]
  },
  {
   "cell_type": "code",
   "execution_count": 2,
   "metadata": {
    "collapsed": false
   },
   "outputs": [],
   "source": [
    "\n",
    "CRIME = pd.read_csv(\"CRIME.csv\")\n",
    "INCOME = pd.read_csv(\"INCOME.csv\")\n",
    "SUICIDE = pd.read_csv(\"SUICIDE.csv\")\n",
    "DEATH = pd.read_csv(\"DEATH.csv\")\n",
    "POPULATION = pd.read_csv(\"POPULATION.csv\")\n",
    "BLACK_NONHISPANIC = pd.read_csv(\"BLACK_NONHISPANIC.csv\")\n",
    "HISPANIC = pd.read_csv(\"HISPANIC.csv\")\n",
    "OTHER_NONHISPANIC = pd.read_csv(\"OTHER_NONHISPANIC.csv\")\n",
    "WHITE_NONHISPANIC = pd.read_csv(\"WHITE_NONHISPANIC.csv\")\n",
    "POPULATION_MALE = pd.read_csv(\"POPULATION_MALE.csv\")\n",
    "POPULATION_FEMALE = pd.read_csv(\"POPULATION_FEMALE.csv\")"
   ]
  },
  {
   "cell_type": "code",
   "execution_count": 3,
   "metadata": {
    "collapsed": true
   },
   "outputs": [],
   "source": [
    "# 1. PREPARING DATABASES\n",
    "### A. INCOME\n",
    "#### keeping three columns of income\n",
    "INCOME1 = INCOME[['Tax Year','Place of Residence', 'Average NY AGI of All Returns']]\n",
    "INCOME1.columns = ['Year', 'County', 'Average NY AGI']\n",
    "INCOME2 = INCOME1.replace('New York City - Kings', 'Kings')\n",
    "INCOME3 = INCOME2.replace('New York City - Bronx', 'Bronx')\n",
    "INCOME4 = INCOME3.replace('New York City - Manhattan', 'Manhattan')\n",
    "INCOME5 = INCOME4.replace('New York City - Queens', 'Queens')\n",
    "INCOME6 = INCOME5.replace('New York City - Richmond', 'Richmond')\n",
    "INCOME7 = INCOME6.replace('Total, New York City', 'New York City')"
   ]
  },
  {
   "cell_type": "code",
   "execution_count": 4,
   "metadata": {
    "collapsed": true
   },
   "outputs": [],
   "source": [
    "### B. SUICIDE\n",
    "#### suicide by county\n",
    "SUICIDE_COUNTY = SUICIDE[SUICIDE['Category']==\"County_Group\"]\n",
    "SUICIDE_COUNTY_1 = SUICIDE_COUNTY[['Year', 'Value', 'Suicide Deaths', 'Population', 'Rate Per 100,000']]\n",
    "SUICIDE_COUNTY_1.columns = ['Year', 'County', 'Suicide Deaths','Population', 'Suicide Rate Per 100,000']\n",
    "#### suicide by sex\n",
    "SUICIDE_SEX=SUICIDE[SUICIDE['Category']=='Gender_Group']\n",
    "#### suicide by age_group\n",
    "SUICIDE_AGE=SUICIDE[SUICIDE['Category']=='Age_Group']\n",
    "#### suicide by race\n",
    "SUICIDE_RACE = SUICIDE[SUICIDE['Category']=='Race_Ethnicity_Group']"
   ]
  },
  {
   "cell_type": "code",
   "execution_count": 5,
   "metadata": {
    "collapsed": true
   },
   "outputs": [],
   "source": [
    "### C. DEATH\n",
    "#### KEEPING TOTAL NUMBER OF DEATHS TO COMPARE WITH SUICIDE\n",
    "DEATH_TOTAL = DEATH[DEATH['Selected Cause of Death']=='Total']\n",
    "DEATH_TOTAL_1 = DEATH_TOTAL[['Year', 'County Name', 'Deaths', 'Crude Rate', 'Adjusted Rate']]\n",
    "DEATH_TOTAL_1.columns = ['Year', 'County', 'Deaths', 'Crude Rate', 'Adjusted Rate']\n"
   ]
  },
  {
   "cell_type": "code",
   "execution_count": 6,
   "metadata": {
    "collapsed": true
   },
   "outputs": [],
   "source": [
    "### D. POPULATION\n",
    "#### INTERESTED IN RACE\n",
    "POPULATION1 = POPULATION[POPULATION['Age Group Description']=='Total']\n",
    "POPULATION2 = POPULATION1[POPULATION1['Gender Description']=='Total']\n",
    "POPULATION3 = POPULATION2[POPULATION2['Race/Ethnicity Description']=='Total']\n",
    "POPULATION4 = POPULATION3[['Year', 'County', 'Population Total']]\n",
    "\n",
    "BLACK_NONHISPANIC1 = BLACK_NONHISPANIC[['Year', 'County', 'Population Black Non Hispanic']]\n",
    "\n",
    "HISPANIC1 = HISPANIC[['Year', 'County', 'Population Hispanic']]\n",
    "\n",
    "OTHER_NONHISPANIC1 = OTHER_NONHISPANIC[['Year', 'County', 'Population Other Non Hispanic']]\n",
    "\n",
    "WHITE_NONHISPANIC1 = WHITE_NONHISPANIC[['Year', 'County', 'Population White Non Hispanic']]\n",
    "\n",
    "POPULATION_MALE1 = POPULATION_MALE[['Year', 'County', 'Population Male']]\n",
    "POPULATION_FEMALE1 = POPULATION_FEMALE[['Year', 'County', 'Population Female']]"
   ]
  },
  {
   "cell_type": "code",
   "execution_count": 7,
   "metadata": {
    "collapsed": true
   },
   "outputs": [],
   "source": [
    "### E. CRIME\n",
    "CRIME1 = CRIME[['County', 'Agency', 'Year', 'Index Total', 'Violent Total']]\n",
    "CRIME2 = CRIME1[CRIME1['Agency']=='County Total']\n",
    "CRIME3 = CRIME2[['County', 'Year', 'Index Total', 'Violent Total']]\n",
    "CRIME3.columns = ['County', 'Year', 'Crime Total', 'Violent Crime Total']"
   ]
  },
  {
   "cell_type": "code",
   "execution_count": 8,
   "metadata": {
    "collapsed": false
   },
   "outputs": [],
   "source": [
    "POPULATION_RACE = pd.merge(POPULATION4, BLACK_NONHISPANIC1, on=['Year', 'County'])\n",
    "POP_RACE1 = pd.merge(POPULATION_RACE, HISPANIC1, on=['Year', 'County']) \n",
    "POP_RACE2 = pd.merge(POP_RACE1, OTHER_NONHISPANIC1, on=['Year', 'County'])\n",
    "POP_RACE3 = pd.merge(POP_RACE2, WHITE_NONHISPANIC1, on=['Year', 'County'])"
   ]
  },
  {
   "cell_type": "code",
   "execution_count": 9,
   "metadata": {
    "collapsed": false
   },
   "outputs": [],
   "source": [
    "GENDER_POPULATION = pd.merge(POPULATION_MALE1, POPULATION_FEMALE1, on=['Year', 'County'])\n",
    "POP = pd.merge(POP_RACE3, GENDER_POPULATION, on=['Year', 'County'])"
   ]
  },
  {
   "cell_type": "code",
   "execution_count": 10,
   "metadata": {
    "collapsed": true
   },
   "outputs": [],
   "source": [
    "### A. INCOME WITH CRIME\n",
    "INC_CRIME = pd.merge(INCOME7, CRIME3, on=['Year', 'County'])\n",
    "\n",
    "### B. INC_CRIME WITH DEATH\n",
    "INC_CRIME_DEATH = pd.merge(INC_CRIME, DEATH_TOTAL_1, on=['Year', 'County'])\n",
    "\n",
    "### C. INC_CRIME_DEATH WITH SUICIDE BY COUNTY\n",
    "INC_CRIME_DEATH_SUICIDE = pd.merge(INC_CRIME_DEATH, SUICIDE_COUNTY_1, on =['Year', 'County'])"
   ]
  },
  {
   "cell_type": "code",
   "execution_count": 17,
   "metadata": {
    "collapsed": false
   },
   "outputs": [],
   "source": [
    "### D. INC_CRIME_DEATH_SUICIDE WITH POPULATION\n",
    "MASTER2 = pd.merge(INC_CRIME_DEATH_SUICIDE, POP, on=['Year', 'County'])\n",
    "MASTER2[\"PERCENTAGE_SUICIDES\"] = MASTER2[\"Suicide Deaths\"]*100/MASTER2[\"Deaths\"]"
   ]
  },
  {
   "cell_type": "code",
   "execution_count": 18,
   "metadata": {
    "collapsed": false
   },
   "outputs": [
    {
     "data": {
      "text/html": [
       "<div>\n",
       "<table border=\"1\" class=\"dataframe\">\n",
       "  <thead>\n",
       "    <tr style=\"text-align: right;\">\n",
       "      <th></th>\n",
       "      <th>Year</th>\n",
       "      <th>County</th>\n",
       "      <th>Average NY AGI</th>\n",
       "      <th>Crime Total</th>\n",
       "      <th>Violent Crime Total</th>\n",
       "      <th>Deaths</th>\n",
       "      <th>Crude Rate</th>\n",
       "      <th>Adjusted Rate</th>\n",
       "      <th>Suicide Deaths</th>\n",
       "      <th>Population</th>\n",
       "      <th>Suicide Rate Per 100,000</th>\n",
       "      <th>Population Total</th>\n",
       "      <th>Population Black Non Hispanic</th>\n",
       "      <th>Population Hispanic</th>\n",
       "      <th>Population Other Non Hispanic</th>\n",
       "      <th>Population White Non Hispanic</th>\n",
       "      <th>Population Male</th>\n",
       "      <th>Population Female</th>\n",
       "      <th>PERCENTAGE_SUICIDES</th>\n",
       "    </tr>\n",
       "  </thead>\n",
       "  <tbody>\n",
       "    <tr>\n",
       "      <th>0</th>\n",
       "      <td>2011</td>\n",
       "      <td>Bronx</td>\n",
       "      <td>29942</td>\n",
       "      <td>35130.0</td>\n",
       "      <td>12267.0</td>\n",
       "      <td>8906</td>\n",
       "      <td>639.8</td>\n",
       "      <td>699.8</td>\n",
       "      <td>86</td>\n",
       "      <td>1392002</td>\n",
       "      <td>6.2</td>\n",
       "      <td>1392002</td>\n",
       "      <td>426362</td>\n",
       "      <td>748438</td>\n",
       "      <td>58360</td>\n",
       "      <td>158842</td>\n",
       "      <td>655357</td>\n",
       "      <td>736645</td>\n",
       "      <td>0.965641</td>\n",
       "    </tr>\n",
       "    <tr>\n",
       "      <th>1</th>\n",
       "      <td>2011</td>\n",
       "      <td>Kings</td>\n",
       "      <td>44640</td>\n",
       "      <td>59014.0</td>\n",
       "      <td>18182.0</td>\n",
       "      <td>15824</td>\n",
       "      <td>624.8</td>\n",
       "      <td>630.5</td>\n",
       "      <td>118</td>\n",
       "      <td>2532645</td>\n",
       "      <td>4.7</td>\n",
       "      <td>2532645</td>\n",
       "      <td>822327</td>\n",
       "      <td>506553</td>\n",
       "      <td>287132</td>\n",
       "      <td>916633</td>\n",
       "      <td>1197281</td>\n",
       "      <td>1335364</td>\n",
       "      <td>0.745703</td>\n",
       "    </tr>\n",
       "    <tr>\n",
       "      <th>2</th>\n",
       "      <td>2011</td>\n",
       "      <td>Queens</td>\n",
       "      <td>40108</td>\n",
       "      <td>39863.0</td>\n",
       "      <td>10311.0</td>\n",
       "      <td>13682</td>\n",
       "      <td>608.7</td>\n",
       "      <td>546.0</td>\n",
       "      <td>138</td>\n",
       "      <td>2247848</td>\n",
       "      <td>6.1</td>\n",
       "      <td>2247848</td>\n",
       "      <td>421731</td>\n",
       "      <td>625016</td>\n",
       "      <td>566153</td>\n",
       "      <td>634948</td>\n",
       "      <td>1090105</td>\n",
       "      <td>1157743</td>\n",
       "      <td>1.008624</td>\n",
       "    </tr>\n",
       "    <tr>\n",
       "      <th>3</th>\n",
       "      <td>2011</td>\n",
       "      <td>Richmond</td>\n",
       "      <td>55928</td>\n",
       "      <td>6801.0</td>\n",
       "      <td>1428.0</td>\n",
       "      <td>3198</td>\n",
       "      <td>679.8</td>\n",
       "      <td>624.6</td>\n",
       "      <td>23</td>\n",
       "      <td>470467</td>\n",
       "      <td>4.9</td>\n",
       "      <td>470467</td>\n",
       "      <td>47255</td>\n",
       "      <td>82617</td>\n",
       "      <td>38023</td>\n",
       "      <td>302572</td>\n",
       "      <td>228021</td>\n",
       "      <td>242446</td>\n",
       "      <td>0.719199</td>\n",
       "    </tr>\n",
       "    <tr>\n",
       "      <th>4</th>\n",
       "      <td>2011</td>\n",
       "      <td>Albany</td>\n",
       "      <td>54574</td>\n",
       "      <td>10725.0</td>\n",
       "      <td>1163.0</td>\n",
       "      <td>2697</td>\n",
       "      <td>888.4</td>\n",
       "      <td>711.5</td>\n",
       "      <td>27</td>\n",
       "      <td>303565</td>\n",
       "      <td>8.9</td>\n",
       "      <td>303565</td>\n",
       "      <td>38977</td>\n",
       "      <td>15691</td>\n",
       "      <td>16665</td>\n",
       "      <td>232232</td>\n",
       "      <td>146872</td>\n",
       "      <td>156693</td>\n",
       "      <td>1.001112</td>\n",
       "    </tr>\n",
       "  </tbody>\n",
       "</table>\n",
       "</div>"
      ],
      "text/plain": [
       "   Year    County  Average NY AGI  Crime Total  Violent Crime Total  Deaths  \\\n",
       "0  2011     Bronx           29942      35130.0              12267.0    8906   \n",
       "1  2011     Kings           44640      59014.0              18182.0   15824   \n",
       "2  2011    Queens           40108      39863.0              10311.0   13682   \n",
       "3  2011  Richmond           55928       6801.0               1428.0    3198   \n",
       "4  2011    Albany           54574      10725.0               1163.0    2697   \n",
       "\n",
       "   Crude Rate  Adjusted Rate  Suicide Deaths  Population  \\\n",
       "0       639.8          699.8              86     1392002   \n",
       "1       624.8          630.5             118     2532645   \n",
       "2       608.7          546.0             138     2247848   \n",
       "3       679.8          624.6              23      470467   \n",
       "4       888.4          711.5              27      303565   \n",
       "\n",
       "   Suicide Rate Per 100,000  Population Total  Population Black Non Hispanic  \\\n",
       "0                       6.2           1392002                         426362   \n",
       "1                       4.7           2532645                         822327   \n",
       "2                       6.1           2247848                         421731   \n",
       "3                       4.9            470467                          47255   \n",
       "4                       8.9            303565                          38977   \n",
       "\n",
       "   Population Hispanic  Population Other Non Hispanic  \\\n",
       "0               748438                          58360   \n",
       "1               506553                         287132   \n",
       "2               625016                         566153   \n",
       "3                82617                          38023   \n",
       "4                15691                          16665   \n",
       "\n",
       "   Population White Non Hispanic  Population Male  Population Female  \\\n",
       "0                         158842           655357             736645   \n",
       "1                         916633          1197281            1335364   \n",
       "2                         634948          1090105            1157743   \n",
       "3                         302572           228021             242446   \n",
       "4                         232232           146872             156693   \n",
       "\n",
       "   PERCENTAGE_SUICIDES  \n",
       "0             0.965641  \n",
       "1             0.745703  \n",
       "2             1.008624  \n",
       "3             0.719199  \n",
       "4             1.001112  "
      ]
     },
     "execution_count": 18,
     "metadata": {},
     "output_type": "execute_result"
    }
   ],
   "source": [
    "MASTER2.head()"
   ]
  },
  {
   "cell_type": "code",
   "execution_count": 20,
   "metadata": {
    "collapsed": false
   },
   "outputs": [],
   "source": [
    "MASTER2.to_csv('MASTER2.csv', sep=',')"
   ]
  },
  {
   "cell_type": "code",
   "execution_count": null,
   "metadata": {
    "collapsed": true
   },
   "outputs": [],
   "source": []
  }
 ],
 "metadata": {
  "anaconda-cloud": {},
  "kernelspec": {
   "display_name": "Python [Root]",
   "language": "python",
   "name": "Python [Root]"
  },
  "language_info": {
   "codemirror_mode": {
    "name": "ipython",
    "version": 3
   },
   "file_extension": ".py",
   "mimetype": "text/x-python",
   "name": "python",
   "nbconvert_exporter": "python",
   "pygments_lexer": "ipython3",
   "version": "3.5.2"
  }
 },
 "nbformat": 4,
 "nbformat_minor": 0
}
